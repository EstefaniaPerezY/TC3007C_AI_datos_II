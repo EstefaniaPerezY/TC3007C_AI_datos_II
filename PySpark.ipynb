{
 "cells": [
  {
   "cell_type": "markdown",
   "metadata": {
    "id": "LVwXc8_OZIpA"
   },
   "source": [
    "Estefanía Pérez Yeo - A01639270\n",
    "\n",
    "---\n",
    "\n"
   ]
  },
  {
   "cell_type": "markdown",
   "metadata": {
    "id": "-9wfCOpGZnMa"
   },
   "source": [
    "# Portafolio de Análisis\n",
    "# Módulo 1 - Utilización, procesamiento y visualización de grandes volúmenes de datos"
   ]
  },
  {
   "cell_type": "markdown",
   "metadata": {
    "id": "VLqmisrjZrC6"
   },
   "source": [
    "Mediante el uso de PySpark y con la ayuda de Google Colab se pretende generar 3 modelos, donde acada uno utilice una gran cantidad de datos por medio de MLlib; estos tres modelos son definidos por clasificación, regresión y agrupamiento, donde cada uno manejará datos distintos y se podrá observar una retroalimentación de lo obtenido y observado por modelo."
   ]
  },
  {
   "cell_type": "markdown",
   "metadata": {
    "id": "fHd6eD_T0rXA"
   },
   "source": [
    "# Instalar y preparar Google Colab para trabajar con PySpark"
   ]
  },
  {
   "cell_type": "code",
   "execution_count": 1,
   "metadata": {
    "colab": {
     "base_uri": "https://localhost:8080/"
    },
    "id": "ZGWg3CtOz_fH",
    "outputId": "6ab2c863-6322-4428-902e-81fc5d2fd954"
   },
   "outputs": [
    {
     "name": "stdout",
     "output_type": "stream",
     "text": [
      "\u001b[33m\r",
      "0% [Working]\u001b[0m\r",
      "            \r",
      "Ign:1 https://cloud.r-project.org/bin/linux/ubuntu jammy-cran40/ InRelease\n",
      "Hit:2 https://developer.download.nvidia.com/compute/cuda/repos/ubuntu2204/x86_64  InRelease\n",
      "Hit:3 http://archive.ubuntu.com/ubuntu jammy InRelease\n",
      "Get:4 http://security.ubuntu.com/ubuntu jammy-security InRelease [110 kB]\n",
      "Get:5 http://archive.ubuntu.com/ubuntu jammy-updates InRelease [119 kB]\n",
      "Ign:1 https://cloud.r-project.org/bin/linux/ubuntu jammy-cran40/ InRelease\n",
      "Hit:6 https://ppa.launchpadcontent.net/c2d4u.team/c2d4u4.0+/ubuntu jammy InRelease\n",
      "Get:7 http://archive.ubuntu.com/ubuntu jammy-backports InRelease [109 kB]\n",
      "Get:8 http://security.ubuntu.com/ubuntu jammy-security/main amd64 Packages [1,131 kB]\n",
      "Hit:9 https://ppa.launchpadcontent.net/deadsnakes/ppa/ubuntu jammy InRelease\n",
      "Get:10 http://archive.ubuntu.com/ubuntu jammy-updates/main amd64 Packages [1,400 kB]\n",
      "Get:11 http://archive.ubuntu.com/ubuntu jammy-updates/universe amd64 Packages [1,274 kB]\n",
      "Get:12 http://security.ubuntu.com/ubuntu jammy-security/universe amd64 Packages [1,009 kB]\n",
      "Hit:13 https://ppa.launchpadcontent.net/graphics-drivers/ppa/ubuntu jammy InRelease\n",
      "Ign:1 https://cloud.r-project.org/bin/linux/ubuntu jammy-cran40/ InRelease\n",
      "Hit:14 https://ppa.launchpadcontent.net/ubuntugis/ppa/ubuntu jammy InRelease\n",
      "Err:1 https://cloud.r-project.org/bin/linux/ubuntu jammy-cran40/ InRelease\n",
      "  Could not resolve 'cloud.r-project.org'\n",
      "Fetched 5,152 kB in 7s (730 kB/s)\n",
      "Reading package lists... Done\n",
      "Building dependency tree... Done\n",
      "Reading state information... Done\n",
      "19 packages can be upgraded. Run 'apt list --upgradable' to see them.\n",
      "\u001b[1;33mW: \u001b[0mFailed to fetch https://cloud.r-project.org/bin/linux/ubuntu/jammy-cran40/InRelease  Could not resolve 'cloud.r-project.org'\u001b[0m\n",
      "\u001b[1;33mW: \u001b[0mSome index files failed to download. They have been ignored, or old ones used instead.\u001b[0m\n",
      "tar: spark-3.2.1-bin-hadoop3.2.tgz: Cannot open: No such file or directory\n",
      "tar: Error is not recoverable: exiting now\n",
      "Collecting pyspark\n",
      "  Downloading pyspark-3.5.0.tar.gz (316.9 MB)\n",
      "\u001b[2K     \u001b[90m━━━━━━━━━━━━━━━━━━━━━━━━━━━━━━━━━━━━━━━━\u001b[0m \u001b[32m316.9/316.9 MB\u001b[0m \u001b[31m4.5 MB/s\u001b[0m eta \u001b[36m0:00:00\u001b[0m\n",
      "\u001b[?25h  Preparing metadata (setup.py) ... \u001b[?25l\u001b[?25hdone\n",
      "Requirement already satisfied: py4j==0.10.9.7 in /usr/local/lib/python3.10/dist-packages (from pyspark) (0.10.9.7)\n",
      "Building wheels for collected packages: pyspark\n",
      "  Building wheel for pyspark (setup.py) ... \u001b[?25l\u001b[?25hdone\n",
      "  Created wheel for pyspark: filename=pyspark-3.5.0-py2.py3-none-any.whl size=317425344 sha256=7c568c1602d02a19748e47e400c0a1c2bce8997a5fa855bce7922d4615b029fd\n",
      "  Stored in directory: /root/.cache/pip/wheels/41/4e/10/c2cf2467f71c678cfc8a6b9ac9241e5e44a01940da8fbb17fc\n",
      "Successfully built pyspark\n",
      "Installing collected packages: pyspark\n",
      "Successfully installed pyspark-3.5.0\n"
     ]
    }
   ],
   "source": [
    "#Bibliotecas para poder trabajar con Spark\n",
    "!sudo apt update\n",
    "!apt-get install openjdk-8-jdk-headless -qq > /dev/null\n",
    "!wget -q https://dlcdn.apache.org/spark/spark-3.5.0/spark-3.5.0-bin-hadoop3.tgz\n",
    "!tar xf spark-3.2.1-bin-hadoop3.2.tgz\n",
    "#Configuración de Spark con Python\n",
    "!pip install -q findspark\n",
    "!pip install pyspark\n"
   ]
  },
  {
   "cell_type": "markdown",
   "metadata": {
    "id": "bJ2hqpNn5tG8"
   },
   "source": [
    "## Instalar java"
   ]
  },
  {
   "cell_type": "code",
   "execution_count": 2,
   "metadata": {
    "id": "yVeLXdME5ur2"
   },
   "outputs": [],
   "source": [
    "!apt-get install openjdk-8-jdk-headless -qq > /dev/null\n"
   ]
  },
  {
   "cell_type": "markdown",
   "metadata": {
    "id": "j--1NZ605yWW"
   },
   "source": [
    "## Descargar e instalar Spark"
   ]
  },
  {
   "cell_type": "code",
   "execution_count": 3,
   "metadata": {
    "id": "QSRgba2f5yE1"
   },
   "outputs": [],
   "source": [
    "!wget -q https://dlcdn.apache.org/spark/spark-3.5.0/spark-3.5.0-bin-hadoop3.tgz\n",
    "!tar xf spark-3.5.0-bin-hadoop3.tgz\n"
   ]
  },
  {
   "cell_type": "markdown",
   "metadata": {
    "id": "JSeGeu9r53D1"
   },
   "source": [
    "## Configurar ambiente de variables"
   ]
  },
  {
   "cell_type": "code",
   "execution_count": 4,
   "metadata": {
    "id": "ogfKQoYc542Y"
   },
   "outputs": [],
   "source": [
    "import os\n",
    "os.environ[\"JAVA_HOME\"] = \"/usr/lib/jvm/java-8-openjdk-amd64\"\n",
    "os.environ[\"SPARK_HOME\"] = \"/content/spark-3.5.0-bin-hadoop3\"\n",
    "\n"
   ]
  },
  {
   "cell_type": "markdown",
   "metadata": {
    "id": "BXsYy0K25-y-"
   },
   "source": [
    "## Instalar findspark y pyspark"
   ]
  },
  {
   "cell_type": "code",
   "execution_count": 5,
   "metadata": {
    "id": "Cxa_nT0z6CPA"
   },
   "outputs": [],
   "source": [
    "!pip install -q findspark\n"
   ]
  },
  {
   "cell_type": "code",
   "execution_count": 6,
   "metadata": {
    "id": "8h8nMw9l6Iu5"
   },
   "outputs": [],
   "source": [
    "import findspark\n",
    "findspark.init()\n"
   ]
  },
  {
   "cell_type": "markdown",
   "metadata": {
    "id": "P01LyUo57eSO"
   },
   "source": [
    "## Comenzar una SparkSession"
   ]
  },
  {
   "cell_type": "code",
   "execution_count": 7,
   "metadata": {
    "id": "xf6F1tuE7fJr"
   },
   "outputs": [],
   "source": [
    "from pyspark.sql import SparkSession\n",
    "spark = SparkSession.builder.appName(\"Colab_Spark_3.5.0\").getOrCreate()\n"
   ]
  },
  {
   "cell_type": "markdown",
   "metadata": {
    "id": "ZjpaDUIw8zby"
   },
   "source": [
    "# Genera un modelo de regresión utilizando PySpark y MLlib"
   ]
  },
  {
   "cell_type": "markdown",
   "metadata": {
    "id": "5U2EZ-Id9SU4"
   },
   "source": [
    "## Importar datos de Github"
   ]
  },
  {
   "cell_type": "markdown",
   "metadata": {
    "id": "teB6kEHEOa2R"
   },
   "source": [
    "Para poder generar los modelos de una forma más funcional, se puede instalar el folder completo que proviene de la liga de Github incluida en la actividad\n",
    "\n",
    "https://github.com/apache/spark/tree/master/data/mllib\n",
    "\n",
    "Una vez importada y aprovechando las herramientas de Google Colab, la carga de los datos será a partir del apartado de \"Archivos\" el cual es llamado dentro del código como \"/content/\"."
   ]
  },
  {
   "cell_type": "markdown",
   "metadata": {
    "id": "msK_l1O49ZCB"
   },
   "source": [
    "### Instalar Subversion (svn)"
   ]
  },
  {
   "cell_type": "code",
   "execution_count": 8,
   "metadata": {
    "colab": {
     "base_uri": "https://localhost:8080/"
    },
    "id": "2bq8941_9Uxo",
    "outputId": "6e09cf13-32f9-4681-d704-4ff261dcd554"
   },
   "outputs": [
    {
     "name": "stdout",
     "output_type": "stream",
     "text": [
      "Reading package lists...\n",
      "Building dependency tree...\n",
      "Reading state information...\n",
      "The following additional packages will be installed:\n",
      "  libapr1 libaprutil1 libserf-1-1 libsvn1 libutf8proc2\n",
      "Suggested packages:\n",
      "  db5.3-util libapache2-mod-svn subversion-tools\n",
      "The following NEW packages will be installed:\n",
      "  libapr1 libaprutil1 libserf-1-1 libsvn1 libutf8proc2 subversion\n",
      "0 upgraded, 6 newly installed, 0 to remove and 19 not upgraded.\n",
      "Need to get 2,672 kB of archives.\n",
      "After this operation, 10.5 MB of additional disk space will be used.\n",
      "Get:1 http://archive.ubuntu.com/ubuntu jammy-updates/main amd64 libapr1 amd64 1.7.0-8ubuntu0.22.04.1 [108 kB]\n",
      "Get:2 http://archive.ubuntu.com/ubuntu jammy-updates/main amd64 libaprutil1 amd64 1.6.1-5ubuntu4.22.04.2 [92.8 kB]\n",
      "Get:3 http://archive.ubuntu.com/ubuntu jammy/universe amd64 libserf-1-1 amd64 1.3.9-10ubuntu2 [50.0 kB]\n",
      "Get:4 http://archive.ubuntu.com/ubuntu jammy/universe amd64 libutf8proc2 amd64 2.7.0-3 [73.9 kB]\n",
      "Get:5 http://archive.ubuntu.com/ubuntu jammy-updates/universe amd64 libsvn1 amd64 1.14.1-3ubuntu0.22.04.1 [1,387 kB]\n",
      "Get:6 http://archive.ubuntu.com/ubuntu jammy-updates/universe amd64 subversion amd64 1.14.1-3ubuntu0.22.04.1 [960 kB]\n",
      "Fetched 2,672 kB in 2s (1,080 kB/s)\n",
      "Selecting previously unselected package libapr1:amd64.\n",
      "(Reading database ... 121224 files and directories currently installed.)\n",
      "Preparing to unpack .../0-libapr1_1.7.0-8ubuntu0.22.04.1_amd64.deb ...\n",
      "Unpacking libapr1:amd64 (1.7.0-8ubuntu0.22.04.1) ...\n",
      "Selecting previously unselected package libaprutil1:amd64.\n",
      "Preparing to unpack .../1-libaprutil1_1.6.1-5ubuntu4.22.04.2_amd64.deb ...\n",
      "Unpacking libaprutil1:amd64 (1.6.1-5ubuntu4.22.04.2) ...\n",
      "Selecting previously unselected package libserf-1-1:amd64.\n",
      "Preparing to unpack .../2-libserf-1-1_1.3.9-10ubuntu2_amd64.deb ...\n",
      "Unpacking libserf-1-1:amd64 (1.3.9-10ubuntu2) ...\n",
      "Selecting previously unselected package libutf8proc2:amd64.\n",
      "Preparing to unpack .../3-libutf8proc2_2.7.0-3_amd64.deb ...\n",
      "Unpacking libutf8proc2:amd64 (2.7.0-3) ...\n",
      "Selecting previously unselected package libsvn1:amd64.\n",
      "Preparing to unpack .../4-libsvn1_1.14.1-3ubuntu0.22.04.1_amd64.deb ...\n",
      "Unpacking libsvn1:amd64 (1.14.1-3ubuntu0.22.04.1) ...\n",
      "Selecting previously unselected package subversion.\n",
      "Preparing to unpack .../5-subversion_1.14.1-3ubuntu0.22.04.1_amd64.deb ...\n",
      "Unpacking subversion (1.14.1-3ubuntu0.22.04.1) ...\n",
      "Setting up libutf8proc2:amd64 (2.7.0-3) ...\n",
      "Setting up libapr1:amd64 (1.7.0-8ubuntu0.22.04.1) ...\n",
      "Setting up libaprutil1:amd64 (1.6.1-5ubuntu4.22.04.2) ...\n",
      "Setting up libserf-1-1:amd64 (1.3.9-10ubuntu2) ...\n",
      "Setting up libsvn1:amd64 (1.14.1-3ubuntu0.22.04.1) ...\n",
      "Setting up subversion (1.14.1-3ubuntu0.22.04.1) ...\n",
      "Processing triggers for libc-bin (2.35-0ubuntu3.1) ...\n",
      "/sbin/ldconfig.real: /usr/local/lib/libtbb.so.12 is not a symbolic link\n",
      "\n",
      "/sbin/ldconfig.real: /usr/local/lib/libtbbbind_2_0.so.3 is not a symbolic link\n",
      "\n",
      "/sbin/ldconfig.real: /usr/local/lib/libtbbbind.so.3 is not a symbolic link\n",
      "\n",
      "/sbin/ldconfig.real: /usr/local/lib/libtbbmalloc_proxy.so.2 is not a symbolic link\n",
      "\n",
      "/sbin/ldconfig.real: /usr/local/lib/libtbbbind_2_5.so.3 is not a symbolic link\n",
      "\n",
      "/sbin/ldconfig.real: /usr/local/lib/libtbbmalloc.so.2 is not a symbolic link\n",
      "\n",
      "Processing triggers for man-db (2.10.2-1) ...\n"
     ]
    }
   ],
   "source": [
    "!apt-get install -yq subversion\n"
   ]
  },
  {
   "cell_type": "markdown",
   "metadata": {
    "id": "K42G_udc9bs1"
   },
   "source": [
    "### Usar svn para exportar (download) del directorio:"
   ]
  },
  {
   "cell_type": "code",
   "execution_count": 9,
   "metadata": {
    "colab": {
     "base_uri": "https://localhost:8080/"
    },
    "id": "h6rWl15b9hTd",
    "outputId": "3b1c85cc-b77d-4a3e-84dd-f634482de7ff"
   },
   "outputs": [
    {
     "name": "stdout",
     "output_type": "stream",
     "text": [
      "A    mllib\n",
      "A    mllib/als\n",
      "A    mllib/als/sample_movielens_ratings.txt\n",
      "A    mllib/als/test.data\n",
      "A    mllib/gmm_data.txt\n",
      "A    mllib/images\n",
      "A    mllib/images/license.txt\n",
      "A    mllib/images/origin\n",
      "A    mllib/images/origin/kittens\n",
      "A    mllib/images/origin/kittens/29.5.a_b_EGDP022204.jpg\n",
      "A    mllib/images/origin/kittens/54893.jpg\n",
      "A    mllib/images/origin/kittens/DP153539.jpg\n",
      "A    mllib/images/origin/kittens/DP802813.jpg\n",
      "A    mllib/images/origin/kittens/not-image.txt\n",
      "A    mllib/images/origin/license.txt\n",
      "A    mllib/images/origin/multi-channel\n",
      "A    mllib/images/origin/multi-channel/BGRA.png\n",
      "A    mllib/images/origin/multi-channel/BGRA_alpha_60.png\n",
      "A    mllib/images/origin/multi-channel/chr30.4.184.jpg\n",
      "A    mllib/images/origin/multi-channel/grayscale.jpg\n",
      "A    mllib/kmeans_data.txt\n",
      "A    mllib/pagerank_data.txt\n",
      "A    mllib/pic_data.txt\n",
      "A    mllib/ridge-data\n",
      "A    mllib/ridge-data/lpsa.data\n",
      "A    mllib/sample_binary_classification_data.txt\n",
      "A    mllib/sample_fpgrowth.txt\n",
      "A    mllib/sample_isotonic_regression_libsvm_data.txt\n",
      "A    mllib/sample_kmeans_data.txt\n",
      "A    mllib/sample_lda_data.txt\n",
      "A    mllib/sample_lda_libsvm_data.txt\n",
      "A    mllib/sample_libsvm_data.txt\n",
      "A    mllib/sample_linear_regression_data.txt\n",
      "A    mllib/sample_movielens_data.txt\n",
      "A    mllib/sample_multiclass_classification_data.txt\n",
      "A    mllib/sample_svm_data.txt\n",
      "A    mllib/streaming_kmeans_data_test.txt\n",
      "Exported revision 55418.\n"
     ]
    }
   ],
   "source": [
    "!svn export https://github.com/apache/spark/trunk/data/mllib\n"
   ]
  },
  {
   "cell_type": "markdown",
   "metadata": {
    "id": "a1qQLNox9rAz"
   },
   "source": [
    "### Verificar contenidos"
   ]
  },
  {
   "cell_type": "code",
   "execution_count": 10,
   "metadata": {
    "colab": {
     "base_uri": "https://localhost:8080/"
    },
    "id": "v-78bpaq9ttf",
    "outputId": "6b0c1323-70ca-4d6e-99ea-37f9e8b17659"
   },
   "outputs": [
    {
     "name": "stdout",
     "output_type": "stream",
     "text": [
      "als\t\t\t\t\t    sample_kmeans_data.txt\n",
      "gmm_data.txt\t\t\t\t    sample_lda_data.txt\n",
      "images\t\t\t\t\t    sample_lda_libsvm_data.txt\n",
      "kmeans_data.txt\t\t\t\t    sample_libsvm_data.txt\n",
      "pagerank_data.txt\t\t\t    sample_linear_regression_data.txt\n",
      "pic_data.txt\t\t\t\t    sample_movielens_data.txt\n",
      "ridge-data\t\t\t\t    sample_multiclass_classification_data.txt\n",
      "sample_binary_classification_data.txt\t    sample_svm_data.txt\n",
      "sample_fpgrowth.txt\t\t\t    streaming_kmeans_data_test.txt\n",
      "sample_isotonic_regression_libsvm_data.txt\n"
     ]
    }
   ],
   "source": [
    "!ls mllib\n"
   ]
  },
  {
   "cell_type": "markdown",
   "metadata": {
    "id": "ZpOeldvo836g"
   },
   "source": [
    "## Regresión Lineal"
   ]
  },
  {
   "cell_type": "code",
   "execution_count": 11,
   "metadata": {
    "colab": {
     "base_uri": "https://localhost:8080/"
    },
    "id": "6-hvG5ch87ZX",
    "outputId": "b4cf3dfa-027f-40af-a2fd-39a878b00e12"
   },
   "outputs": [
    {
     "name": "stdout",
     "output_type": "stream",
     "text": [
      "Coefficients: [0.0,0.3229251667740594,-0.3438548034562219,1.915601702345841,0.05288058680386255,0.765962720459771,0.0,-0.15105392669186676,-0.21587930360904645,0.2202536918881343]\n",
      "Intercept: 0.15989368442397356\n",
      "numIterations: 6\n",
      "objectiveHistory: [0.49999999999999994, 0.4967620357443381, 0.49363616643404634, 0.4936351537897608, 0.4936351214177871, 0.49363512062528014, 0.4936351206216114]\n",
      "+--------------------+\n",
      "|           residuals|\n",
      "+--------------------+\n",
      "|  -9.889232683103197|\n",
      "|  0.5533794340053553|\n",
      "|  -5.204019455758822|\n",
      "| -20.566686715507508|\n",
      "|    -9.4497405180564|\n",
      "|  -6.909112502719487|\n",
      "|  -10.00431602969873|\n",
      "|  2.0623978070504845|\n",
      "|  3.1117508432954772|\n",
      "|  -15.89360822941938|\n",
      "|  -5.036284254673026|\n",
      "|  6.4832158769943335|\n",
      "|  12.429497299109002|\n",
      "|  -20.32003219007654|\n",
      "|    -2.0049838218725|\n",
      "| -17.867901734183793|\n",
      "|   7.646455887420495|\n",
      "| -2.2653482182417406|\n",
      "|-0.10308920436195645|\n",
      "|  -1.380034070385301|\n",
      "+--------------------+\n",
      "only showing top 20 rows\n",
      "\n",
      "RMSE: 10.189077\n",
      "r2: 0.022861\n"
     ]
    }
   ],
   "source": [
    "from pyspark.ml.regression import LinearRegression\n",
    "\n",
    "# Load training data\n",
    "training = spark.read.format(\"libsvm\")\\\n",
    "    .load(\"/content/mllib/sample_linear_regression_data.txt\")\n",
    "\n",
    "lr = LinearRegression(maxIter=10, regParam=0.3, elasticNetParam=0.8)\n",
    "\n",
    "# Fit the model\n",
    "lrModel = lr.fit(training)\n",
    "\n",
    "# Print the coefficients and intercept for linear regression\n",
    "print(\"Coefficients: %s\" % str(lrModel.coefficients))\n",
    "print(\"Intercept: %s\" % str(lrModel.intercept))\n",
    "\n",
    "# Summarize the model over the training set and print out some metrics\n",
    "trainingSummary = lrModel.summary\n",
    "print(\"numIterations: %d\" % trainingSummary.totalIterations)\n",
    "print(\"objectiveHistory: %s\" % str(trainingSummary.objectiveHistory))\n",
    "trainingSummary.residuals.show()\n",
    "print(\"RMSE: %f\" % trainingSummary.rootMeanSquaredError)\n",
    "print(\"r2: %f\" % trainingSummary.r2)"
   ]
  },
  {
   "cell_type": "markdown",
   "metadata": {
    "id": "ccEEpFN0LpCw"
   },
   "source": [
    "#### Scatter plot de residuos"
   ]
  },
  {
   "cell_type": "code",
   "execution_count": 12,
   "metadata": {
    "colab": {
     "base_uri": "https://localhost:8080/",
     "height": 472
    },
    "id": "Y-JKVlKYDInX",
    "outputId": "b2f44903-013a-4ca9-d584-ee8b3409f5db"
   },
   "outputs": [
    {
     "data": {
      "image/png": "[encoded data removed]",
      "text/plain": [
       "<Figure size 640x480 with 1 Axes>"
      ]
     },
     "metadata": {},
     "output_type": "display_data"
    }
   ],
   "source": [
    "import matplotlib.pyplot as plt\n",
    "\n",
    "# Recopila los residuos a nivel local\n",
    "residuals = trainingSummary.residuals.rdd.map(lambda row: row[0]).collect()\n",
    "\n",
    "# Crea una figura y un eje\n",
    "fig, ax = plt.subplots()\n",
    "\n",
    "# Grafica los residuos\n",
    "ax.scatter(range(len(residuals)), residuals, color='blue', s=2.5)\n",
    "\n",
    "# Dibuja una línea horizontal punteada gris a través del eje x\n",
    "ax.axhline(y=0, color='gray', linestyle='dashed')\n",
    "\n",
    "# Establece los títulos y las etiquetas\n",
    "ax.set_title('Gráfica de Residuos')\n",
    "ax.set_xlabel('Índice del Observación')\n",
    "ax.set_ylabel('Residuo')\n",
    "\n",
    "# Muestra la gráfica\n",
    "plt.show()\n"
   ]
  },
  {
   "cell_type": "markdown",
   "metadata": {
    "id": "_hIaiq8xPw3_"
   },
   "source": [
    "Analizando la salida de Regresión Lineal se pueden observar primero los valores de coeficientes obtenidos, donde tanto el primer como el séptimo coeficiente muestran 0.0 lo que indica que estos predictores no tienen efecto en la variable dependiente al considerar los otros predictores. En cuanto al segundo, cuarto, sexto y décimo coeficiente considerados como positivos, implican que a medida que el predictor aumenta, la variable de respuesta también aumenta. Por último el tercer, octavo y noveno coeficiente considerados como negativos, sugieren que a medida que el predictor aumenta, la variable de respuesta disminuye.\n",
    "\n",
    "Gracias a la variable numIterations se sabe que el modelo tardó 6 iteraciones en converger lo que sugiere que el algorimo el 6 pasos encontró los mejores parámetros.\n",
    "\n",
    "Los 20 residuales ostrados representan la diferencia entre los valores observados y los valores predichos. Aquellos valores alejados de 0 indican posibles valores atípicos.\n",
    "\n",
    "RMSE (Error Cuadrático Medio Raíz) indica la diferencia entre el valor predicho y el valor actual, y en cuanto menor sea el RMSE, mejor será el modelo, de esta forma tomando en cuenta el dominio este valor es alto.\n",
    "\n",
    "El R2 se toma en cuenta para las predicciones del modelo, donde entre más cercano sea a 1 mejor se ajusta el modelo a futuros valores; tomando en cuenta esto y observando el 0.022861 se concluye que este modelo de regresión no es bueno."
   ]
  },
  {
   "cell_type": "markdown",
   "metadata": {
    "id": "Zfo4xy_uANda"
   },
   "source": [
    "# Genera un modelo de clasificación utilizando PySpark y MLlib"
   ]
  },
  {
   "cell_type": "markdown",
   "metadata": {
    "id": "ZOBgrANjBE-l"
   },
   "source": [
    "## Regresión Logística Multinomial"
   ]
  },
  {
   "cell_type": "code",
   "execution_count": 13,
   "metadata": {
    "colab": {
     "base_uri": "https://localhost:8080/"
    },
    "id": "jT1sLfP8BH6w",
    "outputId": "943c7530-637e-4b2a-d8d4-00d9e3c7b6ac"
   },
   "outputs": [
    {
     "name": "stdout",
     "output_type": "stream",
     "text": [
      "Coefficients: \n",
      "3 X 4 CSRMatrix\n",
      "(0,3) 0.305\n",
      "(1,2) -0.7666\n",
      "(1,3) -0.3854\n",
      "Intercept: [0.05192580020728831,-0.12619173083598803,0.07426593062869971]\n",
      "\n",
      "\n",
      "objectiveHistory:\n",
      "1.098612288668108\n",
      "1.0767872580801818\n",
      "1.0324898663050683\n",
      "1.0276148685544233\n",
      "1.0292979666409194\n",
      "1.0238563624020458\n",
      "1.0236260835897755\n",
      "1.0235478802964153\n",
      "1.0231925082158748\n",
      "1.0231565244620064\n",
      "1.0229939986213705\n",
      "\n",
      "\n",
      "False positive rate by label:\n",
      "label 0: 0.22\n",
      "label 1: 0.05\n",
      "label 2: 0.0\n",
      "\n",
      "\n",
      "True positive rate by label:\n",
      "label 0: 1.0\n",
      "label 1: 1.0\n",
      "label 2: 0.46\n",
      "\n",
      "\n",
      "Precision by label:\n",
      "label 0: 0.6944444444444444\n",
      "label 1: 0.9090909090909091\n",
      "label 2: 1.0\n",
      "\n",
      "\n",
      "Recall by label:\n",
      "label 0: 1.0\n",
      "label 1: 1.0\n",
      "label 2: 0.46\n",
      "\n",
      "\n",
      "F-measure by label:\n",
      "label 0: 0.819672131147541\n",
      "label 1: 0.9523809523809523\n",
      "label 2: 0.6301369863013699\n",
      "\n",
      "\n",
      "Accuracy: 0.82\n",
      "FPR: 0.09\n",
      "TPR: 0.82\n",
      "F-measure: 0.800730023276621\n",
      "Precision: 0.8678451178451179\n",
      "Recall: 0.82\n"
     ]
    }
   ],
   "source": [
    "from pyspark.ml.classification import LogisticRegression\n",
    "\n",
    "# Load training data\n",
    "training = spark \\\n",
    "    .read \\\n",
    "    .format(\"libsvm\") \\\n",
    "    .load(\"/content/mllib/sample_multiclass_classification_data.txt\")\n",
    "\n",
    "lr = LogisticRegression(maxIter=10, regParam=0.3, elasticNetParam=0.8)\n",
    "\n",
    "# Fit the model\n",
    "lrModel = lr.fit(training)\n",
    "\n",
    "# Print the coefficients and intercept for multinomial logistic regression\n",
    "print(\"Coefficients: \\n\" + str(lrModel.coefficientMatrix))\n",
    "print(\"Intercept: \" + str(lrModel.interceptVector))\n",
    "\n",
    "print('\\n')\n",
    "\n",
    "trainingSummary = lrModel.summary\n",
    "\n",
    "# Obtain the objective per iteration\n",
    "objectiveHistory = trainingSummary.objectiveHistory\n",
    "print(\"objectiveHistory:\")\n",
    "for objective in objectiveHistory:\n",
    "    print(objective)\n",
    "\n",
    "print('\\n')\n",
    "\n",
    "# for multiclass, we can inspect metrics on a per-label basis\n",
    "print(\"False positive rate by label:\")\n",
    "for i, rate in enumerate(trainingSummary.falsePositiveRateByLabel):\n",
    "    print(\"label %d: %s\" % (i, rate))\n",
    "\n",
    "print('\\n')\n",
    "\n",
    "print(\"True positive rate by label:\")\n",
    "for i, rate in enumerate(trainingSummary.truePositiveRateByLabel):\n",
    "    print(\"label %d: %s\" % (i, rate))\n",
    "\n",
    "print('\\n')\n",
    "\n",
    "print(\"Precision by label:\")\n",
    "for i, prec in enumerate(trainingSummary.precisionByLabel):\n",
    "    print(\"label %d: %s\" % (i, prec))\n",
    "\n",
    "print('\\n')\n",
    "\n",
    "print(\"Recall by label:\")\n",
    "for i, rec in enumerate(trainingSummary.recallByLabel):\n",
    "    print(\"label %d: %s\" % (i, rec))\n",
    "\n",
    "print('\\n')\n",
    "\n",
    "print(\"F-measure by label:\")\n",
    "for i, f in enumerate(trainingSummary.fMeasureByLabel()):\n",
    "    print(\"label %d: %s\" % (i, f))\n",
    "\n",
    "print('\\n')\n",
    "\n",
    "accuracy = trainingSummary.accuracy\n",
    "falsePositiveRate = trainingSummary.weightedFalsePositiveRate\n",
    "truePositiveRate = trainingSummary.weightedTruePositiveRate\n",
    "fMeasure = trainingSummary.weightedFMeasure()\n",
    "precision = trainingSummary.weightedPrecision\n",
    "recall = trainingSummary.weightedRecall\n",
    "print(\"Accuracy: %s\\nFPR: %s\\nTPR: %s\\nF-measure: %s\\nPrecision: %s\\nRecall: %s\"\n",
    "      % (accuracy, falsePositiveRate, truePositiveRate, fMeasure, precision, recall))"
   ]
  },
  {
   "cell_type": "markdown",
   "metadata": {
    "id": "qZLvqBNBE_A7"
   },
   "source": [
    "#### Gráfico de barras por métrica"
   ]
  },
  {
   "cell_type": "code",
   "execution_count": 14,
   "metadata": {
    "colab": {
     "base_uri": "https://localhost:8080/",
     "height": 472
    },
    "id": "fg6DkC4eFABY",
    "outputId": "c86ec642-40a6-49fe-cd26-ccb1d2619b7a"
   },
   "outputs": [
    {
     "data": {
      "image/png": "[encoded data removed]",
      "text/plain": [
       "<Figure size 640x480 with 1 Axes>"
      ]
     },
     "metadata": {},
     "output_type": "display_data"
    }
   ],
   "source": [
    "labels = [i for i in range(len(trainingSummary.precisionByLabel))]\n",
    "plt.bar(labels, trainingSummary.precisionByLabel, color='blue', label='Precision')\n",
    "plt.bar(labels, trainingSummary.recallByLabel, bottom=trainingSummary.precisionByLabel, color='red', label='Recall')\n",
    "plt.bar(labels, trainingSummary.fMeasureByLabel(), bottom=[i+j for i,j in zip(trainingSummary.precisionByLabel, trainingSummary.recallByLabel)], color='green', label='F-measure')\n",
    "plt.xlabel('Etiqueta')\n",
    "plt.ylabel('Valor')\n",
    "plt.title('Métricas por Etiqueta')\n",
    "plt.legend(loc=\"upper left\")\n",
    "plt.show()\n"
   ]
  },
  {
   "cell_type": "markdown",
   "metadata": {
    "id": "5yfnYM2KTJbY"
   },
   "source": [
    "Los coeficientes mostrados a un inicio muestran una matriz CSR (Compressed Sparse Row) con las ubicaciones de los elementos no nulos. Por ejemplo, el coeficiente (0,3) 0.305 indica que la primera clase (label 0) tiene un coeficiente asociado de 0.305 para la cuarta feature.\n",
    "\n",
    "False positive rate & True positive rate indican la proporción de tanto falsos positivos que se clasificaron incorrectamente como positivos reales que se clasificaron correctamente; tomando en cuenta esto y observando los resultados por ejemplo el label 0 y label 1 tiene un rate del 100% en cuanto a positivos reales lo cual es un buen valor dentro del modelo.\n",
    "\n",
    "Finalmente, observando las métricas globales el Accuracy obtenido es de un 82% lo cual indica que el modelo clasifica correctamente el 82% de las instancias donde subjetivamente hablando es bueno más no el mejor valor. FPR (Tasa de falsos positivos) indica el promedio de falsos positivos donde un 9% es un buen porcentaje ya este valor es preferible mantenerlo bajo a diferencia de TPR el cual muestra la Tasa de postivos reales en un 82%. Una presición de 86% también muestra un valor alto más no el mejor en cuanto a la presición, valga la redundancia, de todas las clases.\n",
    "\n",
    "En conclusión el modelo tiene un buen rendimiento para las etiquetas 0 y 1, pero muestra espacio para mejorar en la etiqueta 2."
   ]
  },
  {
   "cell_type": "markdown",
   "metadata": {
    "id": "rzbMX63aCEPS"
   },
   "source": [
    "# Genera un agrupamiento utilizando PySpark y MLlib"
   ]
  },
  {
   "cell_type": "markdown",
   "metadata": {
    "id": "xw44ufOCAXU0"
   },
   "source": [
    "## Clusterización"
   ]
  },
  {
   "cell_type": "markdown",
   "metadata": {
    "id": "XApUeapiATz-"
   },
   "source": [
    "K-means (2 clusters)"
   ]
  },
  {
   "cell_type": "code",
   "execution_count": 18,
   "metadata": {
    "colab": {
     "base_uri": "https://localhost:8080/"
    },
    "id": "cBQUWPU-AWP5",
    "outputId": "a303bf3d-084b-4f6d-d8b4-30191c29fa42"
   },
   "outputs": [
    {
     "name": "stdout",
     "output_type": "stream",
     "text": [
      "Silhouette with squared euclidean distance = 0.9997530305375207\n",
      "Cluster Centers: \n",
      "[9.1 9.1 9.1]\n",
      "[0.1 0.1 0.1]\n"
     ]
    }
   ],
   "source": [
    "from pyspark.ml.clustering import KMeans\n",
    "from pyspark.ml.evaluation import ClusteringEvaluator\n",
    "\n",
    "# Loads data.\n",
    "dataset = spark.read.format(\"libsvm\").load(\"/content/mllib/sample_kmeans_data.txt\")\n",
    "\n",
    "# Trains a k-means model.\n",
    "kmeans = KMeans().setK(2).setSeed(1)\n",
    "model = kmeans.fit(dataset)\n",
    "\n",
    "# Make predictions\n",
    "predictions = model.transform(dataset)\n",
    "\n",
    "# Evaluate clustering by computing Silhouette score\n",
    "evaluator = ClusteringEvaluator()\n",
    "\n",
    "silhouette = evaluator.evaluate(predictions)\n",
    "print(\"Silhouette with squared euclidean distance = \" + str(silhouette))\n",
    "\n",
    "# Shows the result.\n",
    "centers = model.clusterCenters()\n",
    "print(\"Cluster Centers: \")\n",
    "for center in centers:\n",
    "    print(center)"
   ]
  },
  {
   "cell_type": "markdown",
   "metadata": {
    "id": "KbJ4LL3dXB4h"
   },
   "source": [
    "La métrica Silhouette oscila entre -1 y 1, donde un valor entre más cercano a 1 indica que los objetos están bien emparejados con su propio cluster y tienen un mal emparejamiento con los clusters vecinos. Observando el valor obtenido de 0.999, el cual es muy cerca de 1, los puntos se encuentran muy cerca de sus centroides y lejos de los que no les corresponden; por ende, una configuración de 2 clusters fue una buena desición."
   ]
  },
  {
   "cell_type": "markdown",
   "metadata": {
    "id": "FyOkRTUgFg51"
   },
   "source": [
    "#### DataFrame de PySpark a Pandas DataFrame"
   ]
  },
  {
   "cell_type": "code",
   "execution_count": 19,
   "metadata": {
    "id": "oB_NdN9bFi3p"
   },
   "outputs": [],
   "source": [
    "import pandas as pd\n",
    "pdf = predictions.toPandas()\n"
   ]
  },
  {
   "cell_type": "code",
   "execution_count": 22,
   "metadata": {
    "colab": {
     "base_uri": "https://localhost:8080/",
     "height": 206
    },
    "id": "Oz-Y_OVDGECh",
    "outputId": "8a095b98-d735-4087-d4b1-6a578b02fd69"
   },
   "outputs": [
    {
     "data": {
      "text/html": [
       "\n",
       "  <div id=\"df-d17cd6ad-a400-49d9-b419-ad4f75b5f1b0\" class=\"colab-df-container\">\n",
       "    <div>\n",
       "<style scoped>\n",
       "    .dataframe tbody tr th:only-of-type {\n",
       "        vertical-align: middle;\n",
       "    }\n",
       "\n",
       "    .dataframe tbody tr th {\n",
       "        vertical-align: top;\n",
       "    }\n",
       "\n",
       "    .dataframe thead th {\n",
       "        text-align: right;\n",
       "    }\n",
       "</style>\n",
       "<table border=\"1\" class=\"dataframe\">\n",
       "  <thead>\n",
       "    <tr style=\"text-align: right;\">\n",
       "      <th></th>\n",
       "      <th>label</th>\n",
       "      <th>features</th>\n",
       "      <th>prediction</th>\n",
       "    </tr>\n",
       "  </thead>\n",
       "  <tbody>\n",
       "    <tr>\n",
       "      <th>0</th>\n",
       "      <td>0.0</td>\n",
       "      <td>(0.0, 0.0, 0.0)</td>\n",
       "      <td>1</td>\n",
       "    </tr>\n",
       "    <tr>\n",
       "      <th>1</th>\n",
       "      <td>1.0</td>\n",
       "      <td>(0.1, 0.1, 0.1)</td>\n",
       "      <td>1</td>\n",
       "    </tr>\n",
       "    <tr>\n",
       "      <th>2</th>\n",
       "      <td>2.0</td>\n",
       "      <td>(0.2, 0.2, 0.2)</td>\n",
       "      <td>1</td>\n",
       "    </tr>\n",
       "    <tr>\n",
       "      <th>3</th>\n",
       "      <td>3.0</td>\n",
       "      <td>(9.0, 9.0, 9.0)</td>\n",
       "      <td>0</td>\n",
       "    </tr>\n",
       "    <tr>\n",
       "      <th>4</th>\n",
       "      <td>4.0</td>\n",
       "      <td>(9.1, 9.1, 9.1)</td>\n",
       "      <td>0</td>\n",
       "    </tr>\n",
       "  </tbody>\n",
       "</table>\n",
       "</div>\n",
       "    <div class=\"colab-df-buttons\">\n",
       "\n",
       "  <div class=\"colab-df-container\">\n",
       "    <button class=\"colab-df-convert\" onclick=\"convertToInteractive('df-d17cd6ad-a400-49d9-b419-ad4f75b5f1b0')\"\n",
       "            title=\"Convert this dataframe to an interactive table.\"\n",
       "            style=\"display:none;\">\n",
       "\n",
       "  <svg xmlns=\"http://www.w3.org/2000/svg\" height=\"24px\" viewBox=\"0 -960 960 960\">\n",
       "    <path d=\"M120-120v-720h720v720H120Zm60-500h600v-160H180v160Zm220 220h160v-160H400v160Zm0 220h160v-160H400v160ZM180-400h160v-160H180v160Zm440 0h160v-160H620v160ZM180-180h160v-160H180v160Zm440 0h160v-160H620v160Z\"/>\n",
       "  </svg>\n",
       "    </button>\n",
       "\n",
       "  <style>\n",
       "    .colab-df-container {\n",
       "      display:flex;\n",
       "      gap: 12px;\n",
       "    }\n",
       "\n",
       "    .colab-df-convert {\n",
       "      background-color: #E8F0FE;\n",
       "      border: none;\n",
       "      border-radius: 50%;\n",
       "      cursor: pointer;\n",
       "      display: none;\n",
       "      fill: #1967D2;\n",
       "      height: 32px;\n",
       "      padding: 0 0 0 0;\n",
       "      width: 32px;\n",
       "    }\n",
       "\n",
       "    .colab-df-convert:hover {\n",
       "      background-color: #E2EBFA;\n",
       "      box-shadow: 0px 1px 2px rgba(60, 64, 67, 0.3), 0px 1px 3px 1px rgba(60, 64, 67, 0.15);\n",
       "      fill: #174EA6;\n",
       "    }\n",
       "\n",
       "    .colab-df-buttons div {\n",
       "      margin-bottom: 4px;\n",
       "    }\n",
       "\n",
       "    [theme=dark] .colab-df-convert {\n",
       "      background-color: #3B4455;\n",
       "      fill: #D2E3FC;\n",
       "    }\n",
       "\n",
       "    [theme=dark] .colab-df-convert:hover {\n",
       "      background-color: #434B5C;\n",
       "      box-shadow: 0px 1px 3px 1px rgba(0, 0, 0, 0.15);\n",
       "      filter: drop-shadow(0px 1px 2px rgba(0, 0, 0, 0.3));\n",
       "      fill: #FFFFFF;\n",
       "    }\n",
       "  </style>\n",
       "\n",
       "    <script>\n",
       "      const buttonEl =\n",
       "        document.querySelector('#df-d17cd6ad-a400-49d9-b419-ad4f75b5f1b0 button.colab-df-convert');\n",
       "      buttonEl.style.display =\n",
       "        google.colab.kernel.accessAllowed ? 'block' : 'none';\n",
       "\n",
       "      async function convertToInteractive(key) {\n",
       "        const element = document.querySelector('#df-d17cd6ad-a400-49d9-b419-ad4f75b5f1b0');\n",
       "        const dataTable =\n",
       "          await google.colab.kernel.invokeFunction('convertToInteractive',\n",
       "                                                    [key], {});\n",
       "        if (!dataTable) return;\n",
       "\n",
       "        const docLinkHtml = 'Like what you see? Visit the ' +\n",
       "          '<a target=\"_blank\" href=https://colab.research.google.com/notebooks/data_table.ipynb>data table notebook</a>'\n",
       "          + ' to learn more about interactive tables.';\n",
       "        element.innerHTML = '';\n",
       "        dataTable['output_type'] = 'display_data';\n",
       "        await google.colab.output.renderOutput(dataTable, element);\n",
       "        const docLink = document.createElement('div');\n",
       "        docLink.innerHTML = docLinkHtml;\n",
       "        element.appendChild(docLink);\n",
       "      }\n",
       "    </script>\n",
       "  </div>\n",
       "\n",
       "\n",
       "<div id=\"df-b448772d-a20d-4f6e-9e13-e21754dc980b\">\n",
       "  <button class=\"colab-df-quickchart\" onclick=\"quickchart('df-b448772d-a20d-4f6e-9e13-e21754dc980b')\"\n",
       "            title=\"Suggest charts.\"\n",
       "            style=\"display:none;\">\n",
       "\n",
       "<svg xmlns=\"http://www.w3.org/2000/svg\" height=\"24px\"viewBox=\"0 0 24 24\"\n",
       "     width=\"24px\">\n",
       "    <g>\n",
       "        <path d=\"M19 3H5c-1.1 0-2 .9-2 2v14c0 1.1.9 2 2 2h14c1.1 0 2-.9 2-2V5c0-1.1-.9-2-2-2zM9 17H7v-7h2v7zm4 0h-2V7h2v10zm4 0h-2v-4h2v4z\"/>\n",
       "    </g>\n",
       "</svg>\n",
       "  </button>\n",
       "\n",
       "<style>\n",
       "  .colab-df-quickchart {\n",
       "      --bg-color: #E8F0FE;\n",
       "      --fill-color: #1967D2;\n",
       "      --hover-bg-color: #E2EBFA;\n",
       "      --hover-fill-color: #174EA6;\n",
       "      --disabled-fill-color: #AAA;\n",
       "      --disabled-bg-color: #DDD;\n",
       "  }\n",
       "\n",
       "  [theme=dark] .colab-df-quickchart {\n",
       "      --bg-color: #3B4455;\n",
       "      --fill-color: #D2E3FC;\n",
       "      --hover-bg-color: #434B5C;\n",
       "      --hover-fill-color: #FFFFFF;\n",
       "      --disabled-bg-color: #3B4455;\n",
       "      --disabled-fill-color: #666;\n",
       "  }\n",
       "\n",
       "  .colab-df-quickchart {\n",
       "    background-color: var(--bg-color);\n",
       "    border: none;\n",
       "    border-radius: 50%;\n",
       "    cursor: pointer;\n",
       "    display: none;\n",
       "    fill: var(--fill-color);\n",
       "    height: 32px;\n",
       "    padding: 0;\n",
       "    width: 32px;\n",
       "  }\n",
       "\n",
       "  .colab-df-quickchart:hover {\n",
       "    background-color: var(--hover-bg-color);\n",
       "    box-shadow: 0 1px 2px rgba(60, 64, 67, 0.3), 0 1px 3px 1px rgba(60, 64, 67, 0.15);\n",
       "    fill: var(--button-hover-fill-color);\n",
       "  }\n",
       "\n",
       "  .colab-df-quickchart-complete:disabled,\n",
       "  .colab-df-quickchart-complete:disabled:hover {\n",
       "    background-color: var(--disabled-bg-color);\n",
       "    fill: var(--disabled-fill-color);\n",
       "    box-shadow: none;\n",
       "  }\n",
       "\n",
       "  .colab-df-spinner {\n",
       "    border: 2px solid var(--fill-color);\n",
       "    border-color: transparent;\n",
       "    border-bottom-color: var(--fill-color);\n",
       "    animation:\n",
       "      spin 1s steps(1) infinite;\n",
       "  }\n",
       "\n",
       "  @keyframes spin {\n",
       "    0% {\n",
       "      border-color: transparent;\n",
       "      border-bottom-color: var(--fill-color);\n",
       "      border-left-color: var(--fill-color);\n",
       "    }\n",
       "    20% {\n",
       "      border-color: transparent;\n",
       "      border-left-color: var(--fill-color);\n",
       "      border-top-color: var(--fill-color);\n",
       "    }\n",
       "    30% {\n",
       "      border-color: transparent;\n",
       "      border-left-color: var(--fill-color);\n",
       "      border-top-color: var(--fill-color);\n",
       "      border-right-color: var(--fill-color);\n",
       "    }\n",
       "    40% {\n",
       "      border-color: transparent;\n",
       "      border-right-color: var(--fill-color);\n",
       "      border-top-color: var(--fill-color);\n",
       "    }\n",
       "    60% {\n",
       "      border-color: transparent;\n",
       "      border-right-color: var(--fill-color);\n",
       "    }\n",
       "    80% {\n",
       "      border-color: transparent;\n",
       "      border-right-color: var(--fill-color);\n",
       "      border-bottom-color: var(--fill-color);\n",
       "    }\n",
       "    90% {\n",
       "      border-color: transparent;\n",
       "      border-bottom-color: var(--fill-color);\n",
       "    }\n",
       "  }\n",
       "</style>\n",
       "\n",
       "  <script>\n",
       "    async function quickchart(key) {\n",
       "      const quickchartButtonEl =\n",
       "        document.querySelector('#' + key + ' button');\n",
       "      quickchartButtonEl.disabled = true;  // To prevent multiple clicks.\n",
       "      quickchartButtonEl.classList.add('colab-df-spinner');\n",
       "      try {\n",
       "        const charts = await google.colab.kernel.invokeFunction(\n",
       "            'suggestCharts', [key], {});\n",
       "      } catch (error) {\n",
       "        console.error('Error during call to suggestCharts:', error);\n",
       "      }\n",
       "      quickchartButtonEl.classList.remove('colab-df-spinner');\n",
       "      quickchartButtonEl.classList.add('colab-df-quickchart-complete');\n",
       "    }\n",
       "    (() => {\n",
       "      let quickchartButtonEl =\n",
       "        document.querySelector('#df-b448772d-a20d-4f6e-9e13-e21754dc980b button');\n",
       "      quickchartButtonEl.style.display =\n",
       "        google.colab.kernel.accessAllowed ? 'block' : 'none';\n",
       "    })();\n",
       "  </script>\n",
       "</div>\n",
       "    </div>\n",
       "  </div>\n"
      ],
      "text/plain": [
       "   label         features  prediction\n",
       "0    0.0  (0.0, 0.0, 0.0)           1\n",
       "1    1.0  (0.1, 0.1, 0.1)           1\n",
       "2    2.0  (0.2, 0.2, 0.2)           1\n",
       "3    3.0  (9.0, 9.0, 9.0)           0\n",
       "4    4.0  (9.1, 9.1, 9.1)           0"
      ]
     },
     "execution_count": 22,
     "metadata": {},
     "output_type": "execute_result"
    }
   ],
   "source": [
    "pdf.head()"
   ]
  },
  {
   "cell_type": "markdown",
   "metadata": {
    "id": "ST6KAtsJFpVq"
   },
   "source": [
    "#### Gráfico de dispersión"
   ]
  },
  {
   "cell_type": "markdown",
   "metadata": {
    "id": "SzAHQCrzGZ2R"
   },
   "source": [
    "Separar dimensiones"
   ]
  },
  {
   "cell_type": "code",
   "execution_count": 23,
   "metadata": {
    "id": "NSwHrqcfGbaZ"
   },
   "outputs": [],
   "source": [
    "pdf['x'] = pdf['features'].apply(lambda vec: vec[0])\n",
    "pdf['y'] = pdf['features'].apply(lambda vec: vec[1])\n"
   ]
  },
  {
   "cell_type": "code",
   "execution_count": 27,
   "metadata": {
    "colab": {
     "base_uri": "https://localhost:8080/",
     "height": 607
    },
    "id": "M9e1n6IfFrJp",
    "outputId": "5fc85c99-5773-4dee-89fc-d13a1817f377"
   },
   "outputs": [
    {
     "data": {
      "image/png": "[encoded data removed]",
      "text/plain": [
       "<Figure size 1000x600 with 1 Axes>"
      ]
     },
     "metadata": {},
     "output_type": "display_data"
    }
   ],
   "source": [
    "# Crea un espacio para la gráfica\n",
    "plt.figure(figsize=(10, 6))\n",
    "\n",
    "# Dibuja los puntos de datos con opacidad y tamaño ajustados\n",
    "plt.scatter(pdf['x'], pdf['y'], c=pdf['prediction'], cmap='viridis', alpha=0.7, s=100, edgecolors='w', linewidth=0.5)\n",
    "\n",
    "# Dibuja y anota los centros de los clústeres\n",
    "for i, centro in enumerate(centers):\n",
    "    plt.scatter(centro[0], centro[1], s=300, c='red', marker='X')\n",
    "    plt.text(centro[0], centro[1], f'Centro {i}', fontsize=10, ha='right')\n",
    "\n",
    "# Ajusta las etiquetas y título\n",
    "plt.xlabel('Dimensión 1')\n",
    "plt.ylabel('Dimensión 2')\n",
    "plt.title('Resultados de Agrupamiento con KMeans')\n",
    "plt.grid(True, which='both', linestyle='--', linewidth=0.5)\n",
    "plt.tight_layout()\n",
    "\n",
    "# Muestra la gráfica\n",
    "plt.show()"
   ]
  }
 ],
 "metadata": {
  "colab": {
   "provenance": [],
   "toc_visible": true
  },
  "kernelspec": {
   "display_name": "Python 3 (ipykernel)",
   "language": "python",
   "name": "python3"
  },
  "language_info": {
   "codemirror_mode": {
    "name": "ipython",
    "version": 3
   },
   "file_extension": ".py",
   "mimetype": "text/x-python",
   "name": "python",
   "nbconvert_exporter": "python",
   "pygments_lexer": "ipython3",
   "version": "3.9.13"
  }
 },
 "nbformat": 4,
 "nbformat_minor": 1
}
